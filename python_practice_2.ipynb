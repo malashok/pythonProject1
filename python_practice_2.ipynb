{
 "cells": [
  {
   "cell_type": "markdown",
   "metadata": {
    "id": "p9wwt0LZzNvn"
   },
   "source": [
    "# I. Змінні та памʼять."
   ]
  },
  {
   "cell_type": "markdown",
   "metadata": {
    "id": "HTJrrm95xSV9"
   },
   "source": [
    "1. Створити змінні, що посилаються на два цілих числа, що однакові за значенням, де значення належить проміжку від -5 до 256. Перевірте, чи будуть ці змінні рівні тільки за значенням або ж ще будуть посилатися на один і той самий обʼєкт в памʼяті? Наведіть код та дайте текстову відповідь нижче."
   ]
  },
  {
   "cell_type": "code",
   "execution_count": 1,
   "metadata": {
    "id": "TATni2vzayjG"
   },
   "outputs": [
    {
     "name": "stdout",
     "output_type": "stream",
     "text": [
      "True\n"
     ]
    }
   ],
   "source": [
    "num1 = 100\n",
    "num2 = 100\n",
    "\n",
    "\n",
    "print(num1 == num2)"
   ]
  },
  {
   "cell_type": "markdown",
   "metadata": {
    "id": "zfRG_o3WbRdg"
   },
   "source": [
    "було створено змінні, які посилаються на ціле число 100, а також перервірено, чи змінні посилаються на один і той самий об'єкт в пам'яті"
   ]
  },
  {
   "cell_type": "markdown",
   "metadata": {
    "id": "ISORzt6M3vAt"
   },
   "source": [
    "2. За допомогою якої функції можна перевірити належність змінної до вказаного типу даних (напр. чи змінна True посилається на значення булевого та цілочисленого типу)?"
   ]
  },
  {
   "cell_type": "code",
   "execution_count": 5,
   "metadata": {
    "id": "9vL9CFaMbfyo",
    "ExecuteTime": {
     "end_time": "2024-02-08T20:23:25.126641300Z",
     "start_time": "2024-02-08T20:23:25.109747800Z"
    }
   },
   "outputs": [
    {
     "data": {
      "text/plain": "True"
     },
     "execution_count": 5,
     "metadata": {},
     "output_type": "execute_result"
    }
   ],
   "source": [
    "b = True\n",
    "isinstance(b, int)"
   ]
  },
  {
   "cell_type": "markdown",
   "metadata": {
    "id": "tRxugKAxwYLw"
   },
   "source": [
    "# II. Цілі числа та числа з рухомою комою"
   ]
  },
  {
   "cell_type": "markdown",
   "metadata": {
    "id": "NLHkgd5Gybc8"
   },
   "source": [
    "3. Створити дві змінні, що посилаються на будь-які ціле число та число з рухомою комою та продемонструвати такі арифметичні операції: додавання, віднімання, ділення, множення, ділення без залишку, ділення по модулю, приведення до ступеню. Всі результати операцій вивести на екран."
   ]
  },
  {
   "cell_type": "code",
   "execution_count": 7,
   "metadata": {
    "id": "nb8u_3pjb2cA",
    "ExecuteTime": {
     "end_time": "2024-02-08T20:27:29.886843400Z",
     "start_time": "2024-02-08T20:27:29.869989700Z"
    }
   },
   "outputs": [
    {
     "name": "stdout",
     "output_type": "stream",
     "text": [
      "addition: 11.5\n",
      "subtraction: 2.5\n",
      "division: 1.5555555555555556\n",
      "multiplication: 31.5\n",
      "floor division: 1.0\n",
      "modul division 2.5\n",
      "exp 49\n"
     ]
    }
   ],
   "source": [
    "int_num = 7\n",
    "float_num = 4.5\n",
    "\n",
    "add = int_num + float_num\n",
    "print(\"addition:\", add)\n",
    "\n",
    "sub = int_num - float_num\n",
    "print(\"subtraction:\", sub)\n",
    "\n",
    "div = int_num / float_num\n",
    "print(\"division:\", div)\n",
    "\n",
    "multiplication = int_num * float_num\n",
    "print(\"multiplication:\", multiplication)\n",
    "\n",
    "division = int_num // float_num\n",
    "print(\"floor division:\", division)\n",
    "\n",
    "mod = int_num % float_num\n",
    "print(\"modul division\", mod)\n",
    "\n",
    "exp = int_num ** 2\n",
    "print(\"exp\", exp)"
   ]
  },
  {
   "cell_type": "markdown",
   "metadata": {
    "id": "1kBClKgPzZnC"
   },
   "source": [
    "4. Використовуючи змінні з вправи 3, продемонструйте механізм явного перетворення типів, де числа з рухомою комою перетворюються на цілі числа. Також визначте змінну, що посилається на значення булевого типу і спробуйте явно привести її до цілого числа."
   ]
  },
  {
   "cell_type": "code",
   "execution_count": 49,
   "metadata": {
    "id": "TbqJbkeUcKsD",
    "ExecuteTime": {
     "end_time": "2024-02-08T20:53:49.001819400Z",
     "start_time": "2024-02-08T20:53:48.998957700Z"
    }
   },
   "outputs": [
    {
     "name": "stdout",
     "output_type": "stream",
     "text": [
      "float to int:  4\n",
      "bool to int:  0\n"
     ]
    }
   ],
   "source": [
    "b = False\n",
    "\n",
    "num1 = int(float_num)\n",
    "num2 = int(b)\n",
    "print(\"float to int: \", num1)\n",
    "print(\"bool to int: \", num2)"
   ]
  },
  {
   "cell_type": "markdown",
   "metadata": {
    "id": "EVJ7AflwxrZi"
   },
   "source": [
    "# IІІ. Рядки (String)."
   ]
  },
  {
   "cell_type": "markdown",
   "metadata": {
    "id": "_s5ECzz9zE61"
   },
   "source": [
    "5. Створити пустий рядок двома різними способами."
   ]
  },
  {
   "cell_type": "code",
   "execution_count": 14,
   "metadata": {
    "id": "fkZJHu9Scvc-",
    "ExecuteTime": {
     "end_time": "2024-02-08T20:33:19.876424700Z",
     "start_time": "2024-02-08T20:33:19.869654800Z"
    }
   },
   "outputs": [
    {
     "name": "stdout",
     "output_type": "stream",
     "text": [
      "True\n"
     ]
    }
   ],
   "source": [
    "str1 = ''\n",
    "str2 = \"\"\n",
    "\n",
    "print(str1 == str2)"
   ]
  },
  {
   "cell_type": "markdown",
   "metadata": {
    "id": "4Bdn9J3MzLf_"
   },
   "source": [
    "6. Створити рядок з апострофом. Зробити його сирим. Вивести обидва рядка на екран."
   ]
  },
  {
   "cell_type": "code",
   "execution_count": 10,
   "metadata": {
    "id": "ivji_hsmc0GH",
    "ExecuteTime": {
     "end_time": "2024-02-11T19:04:33.622568600Z",
     "start_time": "2024-02-11T19:04:33.598569200Z"
    }
   },
   "outputs": [
    {
     "name": "stdout",
     "output_type": "stream",
     "text": [
      "I'm ...\n",
      "I'm ...\n"
     ]
    }
   ],
   "source": [
    "str1 = \"I'm ...\"\n",
    "str2 = r\"I'm ...\"\n",
    "\n",
    "print(str1)\n",
    "print(str2)"
   ]
  },
  {
   "cell_type": "markdown",
   "metadata": {
    "id": "bg_d8wM4z8dS"
   },
   "source": [
    "7. Створити змінну, що буде посилатися на Ваше прізвище латинкою. Створити форматований рядок, який буде мати вигляд \"My surname is ______\", де на місці нижніх підкреслень буде Ваше прізвище зі змінної."
   ]
  },
  {
   "cell_type": "code",
   "execution_count": 26,
   "metadata": {
    "id": "kuxFgpWndACq",
    "ExecuteTime": {
     "end_time": "2024-02-08T20:41:16.661307100Z",
     "start_time": "2024-02-08T20:41:16.654236600Z"
    }
   },
   "outputs": [
    {
     "name": "stdout",
     "output_type": "stream",
     "text": [
      "My surname is malashok\n"
     ]
    }
   ],
   "source": [
    "surname = \"malashok\"\n",
    "s = f\"My surname is {surname}\"\n",
    "print(s)"
   ]
  },
  {
   "cell_type": "markdown",
   "metadata": {
    "id": "1Nc6RqvQ0hxU"
   },
   "source": [
    "8. Маючи рядок \"My dog is crazy.\" перетворити його на список [\"my\", \"dog\", \"is\", \"crazy\"]"
   ]
  },
  {
   "cell_type": "code",
   "execution_count": 43,
   "metadata": {
    "id": "w1Ya4RqedUhw",
    "ExecuteTime": {
     "end_time": "2024-02-08T20:48:55.771711900Z",
     "start_time": "2024-02-08T20:48:55.749707800Z"
    }
   },
   "outputs": [
    {
     "name": "stdout",
     "output_type": "stream",
     "text": [
      "['My', 'dog', 'is', 'crazy']\n"
     ]
    }
   ],
   "source": [
    "s = \"My dog is crazy.\"\n",
    "list1 = s.replace('.', '').split()\n",
    "\n",
    "print(list1)"
   ]
  },
  {
   "cell_type": "markdown",
   "metadata": {
    "id": "GYVqN9uP1D4n"
   },
   "source": [
    "# IV. Робота зі списками."
   ]
  },
  {
   "cell_type": "markdown",
   "metadata": {
    "id": "7-DeDunw2sO-"
   },
   "source": [
    "9. Створити список двома різними за синтаксисом способами. За допомогою вбудованої функції обчисліть довжину одного з них."
   ]
  },
  {
   "cell_type": "code",
   "execution_count": 41,
   "metadata": {
    "id": "zxg06Uuxdyoh",
    "ExecuteTime": {
     "end_time": "2024-02-08T20:46:53.462136700Z",
     "start_time": "2024-02-08T20:46:53.445337800Z"
    }
   },
   "outputs": [
    {
     "name": "stdout",
     "output_type": "stream",
     "text": [
      "8\n"
     ]
    }
   ],
   "source": [
    "list1 = list(\"labrador\")\n",
    "list2 = [1, 3, 5, 9]\n",
    "\n",
    "print(len(list1))"
   ]
  },
  {
   "cell_type": "markdown",
   "metadata": {
    "id": "8vmGUTjL22gI"
   },
   "source": [
    "10. Створіть два списка та за допомогою спеціального методу додайте другий з них в якості останнього елемента першого."
   ]
  },
  {
   "cell_type": "code",
   "execution_count": 44,
   "metadata": {
    "id": "uHtjWYw7d7hm",
    "ExecuteTime": {
     "end_time": "2024-02-08T20:49:48.480044200Z",
     "start_time": "2024-02-08T20:49:48.466444900Z"
    }
   },
   "outputs": [
    {
     "name": "stdout",
     "output_type": "stream",
     "text": [
      "[1, 3, 5, 9, [1, 3, 5, 9]]\n"
     ]
    }
   ],
   "source": [
    "list1 = [1, 3, 5, 9]\n",
    "list2 = [1, 3, 5, 9]\n",
    "\n",
    "list1.append(list2)\n",
    "\n",
    "print(list1)"
   ]
  },
  {
   "cell_type": "markdown",
   "metadata": {
    "id": "JC3BkD-67_--"
   },
   "source": [
    "11. Створіть список, де елементами цього списку також є списки. Отримай перший елемент з останнього рядка та виведи значення на екран."
   ]
  },
  {
   "cell_type": "code",
   "execution_count": 50,
   "metadata": {
    "id": "Kz2jZHsGeLlz",
    "ExecuteTime": {
     "end_time": "2024-02-08T20:54:07.535266900Z",
     "start_time": "2024-02-08T20:54:07.489821600Z"
    }
   },
   "outputs": [
    {
     "name": "stdout",
     "output_type": "stream",
     "text": [
      "2\n"
     ]
    }
   ],
   "source": [
    "list1 = [[5, 2], [8, 3, 6], [1], [2, 5, 6, 8]]\n",
    "\n",
    "print(list1[-1][0])"
   ]
  },
  {
   "cell_type": "markdown",
   "metadata": {
    "id": "JA47PKTv8zFK"
   },
   "source": [
    "12. Створіть список з десяти елементів різного типу. Отримайте всі елементи, окрім двох перших та двох останніх та збережіть їх в новій змінній."
   ]
  },
  {
   "cell_type": "code",
   "execution_count": 54,
   "metadata": {
    "id": "_rHdUR-ueP4-",
    "ExecuteTime": {
     "end_time": "2024-02-08T20:56:35.804357400Z",
     "start_time": "2024-02-08T20:56:35.786160800Z"
    }
   },
   "outputs": [
    {
     "name": "stdout",
     "output_type": "stream",
     "text": [
      "[3.0, True, [5, 6], 'seven', {'eight': 8}, (9, 10)]\n"
     ]
    }
   ],
   "source": [
    "list1 =  [1, 'two', 3.0, True, [5, 6], 'meow', {'eight': 8}, (9, 10), None, 'last']\n",
    "list2 = list1[2:-2]\n",
    "print(list2)"
   ]
  },
  {
   "cell_type": "markdown",
   "metadata": {
    "id": "pCjR1dJb1Qbi"
   },
   "source": [
    "# V. Робота з кортежами."
   ]
  },
  {
   "cell_type": "markdown",
   "metadata": {
    "id": "fAZCxAX06R_k"
   },
   "source": [
    "14. Створити кортеж з один елементом."
   ]
  },
  {
   "cell_type": "code",
   "execution_count": 55,
   "metadata": {
    "id": "H7d82WkQev3e",
    "ExecuteTime": {
     "end_time": "2024-02-08T20:57:51.589270800Z",
     "start_time": "2024-02-08T20:57:51.583656200Z"
    }
   },
   "outputs": [],
   "source": [
    "t = (1,)"
   ]
  },
  {
   "cell_type": "markdown",
   "metadata": {
    "id": "8LCtYcmI6w1M"
   },
   "source": [
    "15. Порівняйте список та кортеж. Назвіть схожості та відмінності, випадки використання."
   ]
  },
  {
   "cell_type": "markdown",
   "metadata": {
    "id": "fUsN1Hnue0C6"
   },
   "source": [
    "Спільне:\n",
    "- використовуються для зберігання даних\n",
    "- можна зберігати будь0які типи даних (гетерогенні)\n",
    "- впорядковані (порядок зберігається)\n",
    "- можна ітеруватися елементами\n",
    "- можна доступитися до елементу за допомогою індексу\n",
    "Відмінне: \n",
    "- синтаксис (список оголошується [], кортеж - ())\n",
    "- мутабельність (списки змінні, кортежі ні)\n"
   ]
  },
  {
   "cell_type": "markdown",
   "metadata": {
    "id": "m0xrwFijAmDD"
   },
   "source": [
    "16. Створіть кортеж з 11ти елементів чисел з рухомою комою та отримайте кожен парний за індексом елемент в зворотньому порядку. Наприклад, маючи (1.2, 2.3, 3.3, 4.3, 5.3, 6.3, 7.3, 8.3, 9.3, 0.3), отримати (0.3, 8.3, 6.3, 4.3, 2.3). Результат збережіть в нову змінну та виведіть на екран."
   ]
  },
  {
   "cell_type": "code",
   "execution_count": 58,
   "metadata": {
    "id": "p-5DAH6XfAGA",
    "ExecuteTime": {
     "end_time": "2024-02-08T21:01:21.030537500Z",
     "start_time": "2024-02-08T21:01:21.013979500Z"
    }
   },
   "outputs": [
    {
     "name": "stdout",
     "output_type": "stream",
     "text": [
      "(11.3, 9.3, 7.3, 5.3, 3.3, 1.2)\n"
     ]
    }
   ],
   "source": [
    "tuple1 = (1.2, 2.3, 3.3, 4.3, 5.3, 6.3, 7.3, 8.3, 9.3, 10.3, 11.3)\n",
    "tuple2 = tuple1[::-2]\n",
    "\n",
    "print(tuple2)"
   ]
  },
  {
   "cell_type": "markdown",
   "metadata": {
    "id": "rW_I9dt3x6cW"
   },
   "source": [
    "# VI. Множини (Set)."
   ]
  },
  {
   "cell_type": "markdown",
   "metadata": {
    "id": "zNjRLHLw1Bgg"
   },
   "source": [
    "17. Створити множину без елементів. Після цого за допомогою методу додайте кілька різних елементів до множини. Чи множини є змінним типом даних?"
   ]
  },
  {
   "cell_type": "code",
   "execution_count": 1,
   "metadata": {
    "id": "KOv7zc2Kfo4N",
    "ExecuteTime": {
     "end_time": "2024-02-11T18:48:46.720763900Z",
     "start_time": "2024-02-11T18:48:46.714737300Z"
    }
   },
   "outputs": [
    {
     "name": "stdout",
     "output_type": "stream",
     "text": [
      "{3.0, 1, 'meow'}\n"
     ]
    }
   ],
   "source": [
    "set1 = set()\n",
    "\n",
    "set1.add(1)\n",
    "set1.add('meow')\n",
    "set1.add(3.0)\n",
    "\n",
    "print(set1)"
   ]
  },
  {
   "cell_type": "markdown",
   "metadata": {
    "id": "vxS6dVYiftZQ"
   },
   "source": [
    "так, set - змінний тип даних"
   ]
  },
  {
   "cell_type": "markdown",
   "metadata": {
    "id": "gHpT0Zw_1HEF"
   },
   "source": [
    "18. Створити множину, маючи список my_list = [1, 1, 2, 67, 67, 8, 9]. Пояснити, чому \"зникли\" деякі елементи."
   ]
  },
  {
   "cell_type": "code",
   "execution_count": 2,
   "metadata": {
    "id": "qCN4uvJ_fxmu",
    "ExecuteTime": {
     "end_time": "2024-02-11T18:50:07.222127400Z",
     "start_time": "2024-02-11T18:50:07.199903Z"
    }
   },
   "outputs": [
    {
     "name": "stdout",
     "output_type": "stream",
     "text": [
      "{1, 2, 67, 8, 9}\n"
     ]
    }
   ],
   "source": [
    "my_list = [1, 1, 2, 67, 67, 8, 9]\n",
    "my_set = set(my_list)\n",
    "\n",
    "print(my_set)"
   ]
  },
  {
   "cell_type": "markdown",
   "metadata": {
    "id": "tFNc1e20fyny"
   },
   "source": [
    "у множині кожен елемент має бути унікальним"
   ]
  },
  {
   "cell_type": "markdown",
   "metadata": {
    "id": "SRMkGizS1UwY"
   },
   "source": [
    "19. Створіть дві множини. Продемонстуйте над ними операції: обʼєднання, різниці, пересічі та симетричної різниці. Використовуйте методи, що не змінюють множини, а створюють нові."
   ]
  },
  {
   "cell_type": "code",
   "execution_count": 5,
   "metadata": {
    "id": "h0T-VuDnf3Ri",
    "ExecuteTime": {
     "end_time": "2024-02-11T18:53:49.632878800Z",
     "start_time": "2024-02-11T18:53:49.617223200Z"
    }
   },
   "outputs": [
    {
     "name": "stdout",
     "output_type": "stream",
     "text": [
      "union: {1, 2, 3, 4, 5, 6, 7}\n",
      "difference:  {1, 2}\n",
      "intersection: {3, 4}\n",
      "symmetric difference: {1, 2, 5, 6, 7}\n"
     ]
    }
   ],
   "source": [
    "set1 = {1, 2, 3, 4}\n",
    "set2 = {3, 4, 5, 6, 7}\n",
    "\n",
    "union_set = set1.union(set2)\n",
    "print(\"union:\", union_set)\n",
    "\n",
    "diff_set = set1.difference(set2)\n",
    "print(\"difference: \", diff_set)\n",
    "\n",
    "inters_set = set1.intersection(set2)\n",
    "print(\"intersection:\", inters_set)\n",
    "\n",
    "symmetric_diff_set = set1.symmetric_difference(set2)\n",
    "print(\"symmetric difference:\", symmetric_diff_set)"
   ]
  },
  {
   "cell_type": "markdown",
   "metadata": {
    "id": "kWc8gkzTx7Ea"
   },
   "source": [
    "# VII. Словники (Dictionary)."
   ]
  },
  {
   "cell_type": "markdown",
   "metadata": {
    "id": "i5FLwj-B2ybQ"
   },
   "source": [
    "20. Створіть пустий словник. До нього додайте чотири пари елементів такі, щоб їхні ключі були різних типів. Чи може список бути ключем? Чому?"
   ]
  },
  {
   "cell_type": "code",
   "execution_count": 1,
   "metadata": {
    "id": "hxgv3BzrgLAV",
    "ExecuteTime": {
     "end_time": "2024-02-12T07:02:19.519371900Z",
     "start_time": "2024-02-12T07:02:19.510101800Z"
    }
   },
   "outputs": [
    {
     "name": "stdout",
     "output_type": "stream",
     "text": [
      "{1: 1, 'key2': 'value', False: 3, 2: 'value4'}\n"
     ]
    }
   ],
   "source": [
    "my_dict = {}\n",
    "\n",
    "my_dict[1] = 1\n",
    "my_dict['key2'] = 'value'\n",
    "my_dict[False] = 3\n",
    "my_dict[2] = 'value4' \n",
    "\n",
    "print(my_dict)"
   ]
  },
  {
   "cell_type": "markdown",
   "metadata": {
    "id": "zwa7UVN-gR3m"
   },
   "source": [
    "список не може бути ключем, бо він є змінним об'єктом"
   ]
  },
  {
   "cell_type": "markdown",
   "metadata": {
    "id": "WM_pMlJsgoNf"
   },
   "source": [
    "21. Створіть словник, де значенням в одній з пар теж буде словник, який теж має вкладений словник. Виведіть на екран значення, що міститься в словнику, що знаходиться на найнижчому рівні ієрархії вкладеності (найбільш внутрішній)."
   ]
  },
  {
   "cell_type": "code",
   "execution_count": 7,
   "metadata": {
    "id": "60dlP7IHhAy4",
    "ExecuteTime": {
     "end_time": "2024-02-11T19:02:42.407661400Z",
     "start_time": "2024-02-11T19:02:42.394803900Z"
    }
   },
   "outputs": [
    {
     "name": "stdout",
     "output_type": "stream",
     "text": [
      "value2\n"
     ]
    }
   ],
   "source": [
    "my_dict = {\n",
    "    1: 'value',\n",
    "    2: {\n",
    "        3: 'value1',\n",
    "        4: {\n",
    "            5: 'value2'\n",
    "        }\n",
    "    }\n",
    "}\n",
    "\n",
    "print(my_dict[2][4][5])"
   ]
  },
  {
   "cell_type": "markdown",
   "metadata": {
    "id": "xOZP0hkx6cCr"
   },
   "source": [
    "# Вітаю! Ви велика(ий) молодець, що впоралась(вся). Похваліть себе та побалуйте чимось приємним. Я Вами пишаюся."
   ]
  }
 ],
 "metadata": {
  "colab": {
   "provenance": []
  },
  "kernelspec": {
   "name": "python3",
   "language": "python",
   "display_name": "Python 3 (ipykernel)"
  },
  "language_info": {
   "codemirror_mode": {
    "name": "ipython",
    "version": 3
   },
   "file_extension": ".py",
   "mimetype": "text/x-python",
   "name": "python",
   "nbconvert_exporter": "python",
   "pygments_lexer": "ipython3",
   "version": "3.11.5"
  }
 },
 "nbformat": 4,
 "nbformat_minor": 0
}

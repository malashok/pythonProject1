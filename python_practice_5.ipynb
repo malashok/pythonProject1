{
 "nbformat": 4,
 "nbformat_minor": 0,
 "metadata": {
  "colab": {
   "provenance": []
  },
  "kernelspec": {
   "name": "python3",
   "language": "python",
   "display_name": "Python 3 (ipykernel)"
  },
  "language_info": {
   "name": "python"
  }
 },
 "cells": [
  {
   "cell_type": "markdown",
   "source": [
    "# I. OOP"
   ],
   "metadata": {
    "id": "5qV_sehzFCTp"
   }
  },
  {
   "cell_type": "markdown",
   "source": [
    "1. (6б). Створіть клас Animal, додайте три атрибути, один з яких має значення за замовчуванням та два методи на свій розсуд."
   ],
   "metadata": {
    "id": "tx_U_hOALyfg"
   }
  },
  {
   "cell_type": "code",
   "source": [
    "import math\n",
    "\n",
    "\n",
    "class Animal:\n",
    "    def __init__(self, species, age, is_alive = True):\n",
    "        self.species = species  \n",
    "        self.age = age\n",
    "        self.is_alive = is_alive\n",
    "        \n",
    "    def info(self):\n",
    "        return f\"I`m {self.species}\"\n",
    "        \n",
    "    def how_old_am_i(self):\n",
    "        if self.is_alive:\n",
    "            return f\"I'm {self.age}\"\n",
    "        else:\n",
    "            return f\"{self.species} is dead\"\n",
    "        "
   ],
   "metadata": {
    "id": "-Vf895KaL88N",
    "ExecuteTime": {
     "end_time": "2024-03-02T11:14:44.012792700Z",
     "start_time": "2024-03-02T11:14:44.001558400Z"
    }
   },
   "execution_count": 1,
   "outputs": []
  },
  {
   "cell_type": "markdown",
   "source": [
    "2. (2б). Створіть два обʼєкти цього класу, де один з обʼєктів створюється із дефолтним значенням атрибуту. На одному обʼєкті отримайте значення його атрибуту, а на іншому викличте один з його методів."
   ],
   "metadata": {
    "id": "X_UlOMB0L93w"
   }
  },
  {
   "cell_type": "code",
   "source": [
    "pet1 = Animal('dragon', 123)\n",
    "pet2 = Animal('mammoth', 60, False)\n",
    "\n",
    "print(pet1.species)\n",
    "print(pet2.how_old_am_i())"
   ],
   "metadata": {
    "id": "7gBu0ESOMCpG",
    "ExecuteTime": {
     "end_time": "2024-03-02T11:14:55.122812Z",
     "start_time": "2024-03-02T11:14:55.100301800Z"
    }
   },
   "execution_count": 2,
   "outputs": [
    {
     "name": "stdout",
     "output_type": "stream",
     "text": [
      "dragon\n",
      "mammoth is dead\n"
     ]
    }
   ]
  },
  {
   "cell_type": "markdown",
   "source": [
    "3. (5б). Створіть клас, де атрибути мають різні рівні доступу. Спробуйте отримати їхні значення та опишіть результати."
   ],
   "metadata": {
    "id": "HoqSCZt1MHn5"
   }
  },
  {
   "cell_type": "code",
   "source": [
    "class Student:\n",
    "    def __init__(self, name, id, spec):\n",
    "        self.name = name\n",
    "        self.__id = id\n",
    "        self._specialty = spec\n",
    "    \n",
    "student = Student('Ben', 1001, 'IPZ')\n",
    "print(student.name)\n",
    "print(student._specialty)\n",
    "print(student.__id)\n"
   ],
   "metadata": {
    "id": "r9b3vJxBMSPV",
    "ExecuteTime": {
     "end_time": "2024-03-02T11:22:24.112263600Z",
     "start_time": "2024-03-02T11:22:24.106592700Z"
    }
   },
   "execution_count": 6,
   "outputs": [
    {
     "name": "stdout",
     "output_type": "stream",
     "text": [
      "Ben\n",
      "IPZ\n"
     ]
    },
    {
     "ename": "AttributeError",
     "evalue": "'Student' object has no attribute '__id'",
     "output_type": "error",
     "traceback": [
      "\u001B[1;31m---------------------------------------------------------------------------\u001B[0m",
      "\u001B[1;31mAttributeError\u001B[0m                            Traceback (most recent call last)",
      "Cell \u001B[1;32mIn[6], line 10\u001B[0m\n\u001B[0;32m      8\u001B[0m \u001B[38;5;28mprint\u001B[39m(student\u001B[38;5;241m.\u001B[39mname)\n\u001B[0;32m      9\u001B[0m \u001B[38;5;28mprint\u001B[39m(student\u001B[38;5;241m.\u001B[39m_specialty)\n\u001B[1;32m---> 10\u001B[0m \u001B[38;5;28mprint\u001B[39m(\u001B[43mstudent\u001B[49m\u001B[38;5;241;43m.\u001B[39;49m\u001B[43m__id\u001B[49m)\n",
      "\u001B[1;31mAttributeError\u001B[0m: 'Student' object has no attribute '__id'"
     ]
    }
   ]
  },
  {
   "cell_type": "markdown",
   "source": [
    "4. (7б). Як ви розумієте термін self? Для чого використовується метод __init __?"
   ],
   "metadata": {
    "id": "5op2m2vgMSkZ"
   }
  },
  {
   "cell_type": "markdown",
   "source": [
    "за допомогою self ми можемо доступатися до атрибутів та методів класу; __init__ конструктор класу, потрібен для ініціалізації нового об'єкту"
   ],
   "metadata": {
    "id": "DyiPqNRvMasx"
   }
  },
  {
   "cell_type": "markdown",
   "source": [
    "5. (9б). Створіть клас Фігура без атрибутів, з методом get_area для отримання площі фігури, що повертає 0 та __add __, який приймає self та other в якості аргументів, а повертає суму площин фігур self та other."
   ],
   "metadata": {
    "id": "-6X8EGfjMd2y"
   }
  },
  {
   "cell_type": "code",
   "source": [
    "class Figure:\n",
    "    def get_area(self):\n",
    "        return 0\n",
    "    \n",
    "    def __add__(self, other):\n",
    "        return self.get_area() + other.get_area()\n",
    "    "
   ],
   "metadata": {
    "id": "4rvO_wYUMaEr",
    "ExecuteTime": {
     "end_time": "2024-03-02T11:29:37.573472900Z",
     "start_time": "2024-03-02T11:29:37.567933600Z"
    }
   },
   "execution_count": 9,
   "outputs": []
  },
  {
   "cell_type": "markdown",
   "source": [
    "6. (11б). Створіть 2 дочірніх класи від Фігури: Трикутник та Коло, які мають атрибути, необхідні для розрахунку площин. Визначте метод get_area в кожному з них так, щоби вони розраховували площу в залежності від формули для кожного типу фігури. Створіть обʼєкт класу Трикутник та обʼєкт класу Коло. Виконайте операцію суми за допомогою оператора + між ними."
   ],
   "metadata": {
    "id": "SFcKnnv5Mo_z"
   }
  },
  {
   "cell_type": "code",
   "source": [
    "import math\n",
    "\n",
    "class Triangle(Figure):\n",
    "    def __init__(self, a, h):\n",
    "        self.a = a\n",
    "        self.h = h\n",
    "\n",
    "    def get_area(self):\n",
    "        return self.a * self.h / 2\n",
    "        \n",
    "class Circle(Figure):\n",
    "    def __init__(self, r):\n",
    "        self.r = r\n",
    "        \n",
    "    def get_area(self):\n",
    "        return math.pi * (self.r ** 2)\n",
    "\n",
    "\n",
    "triangle = Triangle(5, 4)\n",
    "circle = Circle(5)\n",
    "\n",
    "print(triangle + circle)"
   ],
   "metadata": {
    "id": "H3GVNr69Muf3",
    "ExecuteTime": {
     "end_time": "2024-03-02T11:34:45.944764600Z",
     "start_time": "2024-03-02T11:34:45.927238300Z"
    }
   },
   "execution_count": 11,
   "outputs": [
    {
     "name": "stdout",
     "output_type": "stream",
     "text": [
      "88.53981633974483\n"
     ]
    }
   ]
  },
  {
   "cell_type": "markdown",
   "source": [
    "7. (3б). Продемонструйте різницю між isinstance та issubclass."
   ],
   "metadata": {
    "id": "HCvR206YMvLK"
   }
  },
  {
   "cell_type": "code",
   "source": [
    "print(isinstance(circle, Figure))  \n",
    "print(isinstance(circle, Circle)) \n",
    "\n",
    "print(issubclass(Circle, Figure)) \n",
    "print(issubclass(Triangle, Circle)) \n"
   ],
   "metadata": {
    "id": "L_V1bBvDM0GN",
    "ExecuteTime": {
     "end_time": "2024-03-02T11:38:16.545593200Z",
     "start_time": "2024-03-02T11:38:16.536903500Z"
    }
   },
   "execution_count": 14,
   "outputs": [
    {
     "name": "stdout",
     "output_type": "stream",
     "text": [
      "True\n",
      "True\n",
      "True\n",
      "False\n"
     ]
    }
   ]
  },
  {
   "cell_type": "markdown",
   "source": [
    "8. (13б). Створіть клас BankAccount з приватними атрибутами balance та account_number. Реалізуйте методи поповнення та зняття коштів, забезпечивши належну інкапсуляцію. Підказка: використовуйте декоратори property та setter."
   ],
   "metadata": {
    "id": "jjsaBZ-iM0Qq"
   }
  },
  {
   "cell_type": "code",
   "source": [
    "class BankAccount:\n",
    "    def __init__(self, balance, account_number):\n",
    "        self._balance = balance\n",
    "        self._account_number = account_number\n",
    "\n",
    "    @property\n",
    "    def balance(self):\n",
    "        return self._balance\n",
    "\n",
    "    @property\n",
    "    def account_number(self):\n",
    "        return self._account_number\n",
    "    \n",
    "    @balance.setter\n",
    "    def balance(self, value):\n",
    "        if value > 0:\n",
    "            self._balance = value\n",
    "\n",
    "    def addition(self, amount):\n",
    "        if amount > 0:\n",
    "            self._balance += amount\n",
    "\n",
    "    def withdraw(self, amount):\n",
    "        if 0 < amount < self._balance:\n",
    "            self._balance -= amount\n",
    "        \n",
    "acc = BankAccount(1784, \"000000000\")\n",
    "acc.balance = 1800\n",
    "\n",
    "acc.withdraw(500)\n",
    "acc.addition(120)\n",
    "\n",
    "print(acc.balance)"
   ],
   "metadata": {
    "id": "xCvZ7lh8M7YA",
    "ExecuteTime": {
     "end_time": "2024-03-02T11:49:37.717962900Z",
     "start_time": "2024-03-02T11:49:37.698945200Z"
    }
   },
   "execution_count": 16,
   "outputs": [
    {
     "name": "stdout",
     "output_type": "stream",
     "text": [
      "1420\n"
     ]
    }
   ]
  },
  {
   "cell_type": "markdown",
   "source": [
    "9. (11б). Створіть клас Library, який містить список об'єктів типу Book. Реалізуйте методи для додавання книги, видалення книги та відображення списку книг."
   ],
   "metadata": {
    "id": "tIzL2SJTM8ft"
   }
  },
  {
   "cell_type": "code",
   "source": [
    "class Book:\n",
    "    def __init__(self, title, author):\n",
    "        self.title = title\n",
    "        self.author = author\n",
    "\n",
    "\n",
    "class Library:\n",
    "    def __init__(self):\n",
    "        self.books = []\n",
    "\n",
    "    def add(self, book):\n",
    "        self.books.append(book)\n",
    "\n",
    "    def remove(self, title):\n",
    "        for book in self.books:\n",
    "            if book.title == title:\n",
    "                self.books.remove(book)\n",
    "                return\n",
    "\n",
    "    def show(self):\n",
    "        if self.books:\n",
    "            for book in self.books:\n",
    "                print(f\"'{book.title}' {book.author}\")\n",
    "        else:\n",
    "            print(\"library is empty.\")\n",
    "\n",
    "\n",
    "library = Library()\n",
    "\n",
    "\n",
    "library.add(Book(\"Book1\", \"author1\"))\n",
    "library.add(Book(\"Book2\", \"author1\"))\n",
    "library.add(Book(\"The Book\", \"author2\"))\n",
    "library.show()\n",
    "library.remove(\"Book1\")\n",
    "library.show()\n"
   ],
   "metadata": {
    "id": "HWxfJKLtNAUZ",
    "ExecuteTime": {
     "end_time": "2024-03-03T14:41:13.417825400Z",
     "start_time": "2024-03-03T14:41:13.410943400Z"
    }
   },
   "execution_count": 17,
   "outputs": [
    {
     "name": "stdout",
     "output_type": "stream",
     "text": [
      "'Book1' author1\n",
      "'Book2' author1\n",
      "'The Book' author2\n",
      "'Book2' author1\n",
      "'The Book' author2\n"
     ]
    }
   ]
  },
  {
   "cell_type": "markdown",
   "source": [
    "10. (13б). Створіть клас Person з атрибутами name та age. Створіть ще один клас Employee з такими атрибутами, як department та salary. Створіть клас Manager, який успадковує обидва класи Person та Employee. Продемонструйте використання множинної спадковості, створивши обʼєкт класу Manager та отримавши mro для цього класу."
   ],
   "metadata": {
    "id": "lmV8pAwwNIqu"
   }
  },
  {
   "cell_type": "code",
   "source": [
    "class Person:\n",
    "    def __init__(self, name, age):\n",
    "        self.name = name\n",
    "        self.age = age\n",
    "        \n",
    "class Employee:\n",
    "    def __init__(self, department, salary):\n",
    "        self.department = department\n",
    "        self.salary = salary\n",
    "\n",
    "class Manager(Person, Employee):\n",
    "    def __init__(self, name, age, department, salary):\n",
    "        Person.__init__(self, name, age)\n",
    "        Employee.__init__(self, department, salary)\n",
    "        \n",
    "manager = Manager(\"name\", 96, \"manager\", 152025)\n",
    "\n",
    "print(f\"{manager.department}: {manager.name}, {manager.age}\")\n",
    "print(Manager.mro())"
   ],
   "metadata": {
    "id": "R49grKlWNPeN",
    "ExecuteTime": {
     "end_time": "2024-03-03T14:51:22.319696400Z",
     "start_time": "2024-03-03T14:51:22.298755900Z"
    }
   },
   "execution_count": 21,
   "outputs": [
    {
     "name": "stdout",
     "output_type": "stream",
     "text": [
      "manager: name, 96\n",
      "[<class '__main__.Manager'>, <class '__main__.Person'>, <class '__main__.Employee'>, <class 'object'>]\n"
     ]
    }
   ]
  },
  {
   "cell_type": "markdown",
   "source": [
    "# II. Iterator"
   ],
   "metadata": {
    "id": "dIJyUiNBFG8G"
   }
  },
  {
   "cell_type": "markdown",
   "source": [
    "11. (4б). Визначте рядок(str) з 4ма різними за значенням символами. Створіть ітератор на основі цього рядка. Викличте 5 разів функцію next на ітераторі, 4ри перших з них огорніть у ф-цію print()."
   ],
   "metadata": {
    "id": "13vsm0NyKIzL"
   }
  },
  {
   "cell_type": "code",
   "source": [
    "s = \"1a)+\"\n",
    "\n",
    "iter1 = iter(s)\n",
    "\n",
    "for i in range(5):\n",
    "    v = next(iter1)\n",
    "    if i < 4:\n",
    "        print(v)\n",
    "    "
   ],
   "metadata": {
    "id": "81ntabAkKuz-",
    "ExecuteTime": {
     "end_time": "2024-03-03T16:07:24.122732800Z",
     "start_time": "2024-03-03T16:07:24.105295400Z"
    }
   },
   "execution_count": 34,
   "outputs": [
    {
     "name": "stdout",
     "output_type": "stream",
     "text": [
      "1\n",
      "a\n",
      ")\n",
      "+\n"
     ]
    },
    {
     "ename": "StopIteration",
     "evalue": "",
     "output_type": "error",
     "traceback": [
      "\u001B[1;31m---------------------------------------------------------------------------\u001B[0m",
      "\u001B[1;31mStopIteration\u001B[0m                             Traceback (most recent call last)",
      "Cell \u001B[1;32mIn[34], line 6\u001B[0m\n\u001B[0;32m      3\u001B[0m iter1 \u001B[38;5;241m=\u001B[39m \u001B[38;5;28miter\u001B[39m(s)\n\u001B[0;32m      5\u001B[0m \u001B[38;5;28;01mfor\u001B[39;00m i \u001B[38;5;129;01min\u001B[39;00m \u001B[38;5;28mrange\u001B[39m(\u001B[38;5;241m5\u001B[39m):\n\u001B[1;32m----> 6\u001B[0m     v \u001B[38;5;241m=\u001B[39m \u001B[38;5;28;43mnext\u001B[39;49m\u001B[43m(\u001B[49m\u001B[43miter1\u001B[49m\u001B[43m)\u001B[49m\n\u001B[0;32m      7\u001B[0m     \u001B[38;5;28;01mif\u001B[39;00m i \u001B[38;5;241m<\u001B[39m \u001B[38;5;241m4\u001B[39m:\n\u001B[0;32m      8\u001B[0m         \u001B[38;5;28mprint\u001B[39m(v)\n",
      "\u001B[1;31mStopIteration\u001B[0m: "
     ]
    }
   ]
  },
  {
   "cell_type": "markdown",
   "source": [
    "А що якщо викликати цю ж функцію на рядку?"
   ],
   "metadata": {
    "id": "aekWHGXOLRsO"
   }
  },
  {
   "cell_type": "code",
   "source": [
    "next(s)"
   ],
   "metadata": {
    "id": "mxATGsErLV1i",
    "ExecuteTime": {
     "end_time": "2024-03-03T14:53:43.059837300Z",
     "start_time": "2024-03-03T14:53:43.002888Z"
    }
   },
   "execution_count": 23,
   "outputs": [
    {
     "ename": "TypeError",
     "evalue": "'str' object is not an iterator",
     "output_type": "error",
     "traceback": [
      "\u001B[1;31m---------------------------------------------------------------------------\u001B[0m",
      "\u001B[1;31mTypeError\u001B[0m                                 Traceback (most recent call last)",
      "Cell \u001B[1;32mIn[23], line 1\u001B[0m\n\u001B[1;32m----> 1\u001B[0m \u001B[38;5;28;43mnext\u001B[39;49m\u001B[43m(\u001B[49m\u001B[43ms\u001B[49m\u001B[43m)\u001B[49m\n",
      "\u001B[1;31mTypeError\u001B[0m: 'str' object is not an iterator"
     ]
    }
   ]
  },
  {
   "cell_type": "markdown",
   "source": [
    " 12. (5б). Опишіть своїми словами в одному реченні, як ви розумієте різницю між ітерабельними обʼєктами та ітераторами (можна на прикладі)."
   ],
   "metadata": {
    "id": "XwtMEopwJ4pH"
   }
  },
  {
   "cell_type": "markdown",
   "source": [
    "через ітерабельний об'єкт можна ітеруватися (наприклад рядок по символьно), а ітератор дозволяє нам проходитися по об'єкту і запам'ятовує стан ітерації"
   ],
   "metadata": {
    "id": "-sHrODc3KFn8"
   }
  },
  {
   "cell_type": "markdown",
   "source": [
    "13. (11б). Створіть клас, що має визначений Iterator Protocol та при кожному виклику next повертає літери англійської абетки, поки вони не вичерпаються."
   ],
   "metadata": {
    "id": "E9qJWmNbK8Gl"
   }
  },
  {
   "cell_type": "code",
   "source": [
    "class AlphabetIter:\n",
    "    def __init__(self):\n",
    "        self.curr = ord('a')\n",
    "\n",
    "    def __iter__(self):\n",
    "        return self\n",
    "\n",
    "    def __next__(self):\n",
    "        if self.curr <= ord('z'):\n",
    "            letter = chr(self.curr)\n",
    "            self.curr += 1\n",
    "            return letter\n",
    "        else:\n",
    "            raise StopIteration\n",
    "        \n",
    "iter2 = AlphabetIter()\n",
    "for letter in iter2:\n",
    "    print(letter)"
   ],
   "metadata": {
    "id": "cqx-g_RsLo6I",
    "ExecuteTime": {
     "end_time": "2024-03-03T16:05:54.729337300Z",
     "start_time": "2024-03-03T16:05:54.486637Z"
    }
   },
   "execution_count": 29,
   "outputs": [
    {
     "name": "stdout",
     "output_type": "stream",
     "text": [
      "a\n",
      "b\n",
      "c\n",
      "d\n",
      "e\n",
      "f\n",
      "g\n",
      "h\n",
      "i\n",
      "j\n",
      "k\n",
      "l\n",
      "m\n",
      "n\n",
      "o\n",
      "p\n",
      "q\n",
      "r\n",
      "s\n",
      "t\n",
      "u\n",
      "v\n",
      "w\n",
      "x\n",
      "y\n",
      "z\n"
     ]
    }
   ]
  },
  {
   "cell_type": "markdown",
   "source": [
    "# Вітаю! Ви велика(ий) молодець, що впоралась(вся). Похваліть себе та побалуйте чимось приємним. Я Вами пишаюся."
   ],
   "metadata": {
    "id": "Z3E3S_s1Fv7-"
   }
  }
 ]
}
